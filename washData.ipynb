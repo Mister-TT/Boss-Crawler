{
 "cells": [
  {
   "cell_type": "code",
   "execution_count": 6,
   "id": "537dab09",
   "metadata": {},
   "outputs": [],
   "source": [
    "import pandas as pd\n",
    "import pymysql"
   ]
  },
  {
   "cell_type": "code",
   "execution_count": 90,
   "id": "d4cf6675",
   "metadata": {},
   "outputs": [],
   "source": [
    "city2province = {\n",
    "    \"深圳\": \"广东\",\n",
    "    \"广州\": \"广东\",\n",
    "    \"成都\": \"四川\",\n",
    "    \"北京\": \"北京\",\n",
    "    \"上海\": \"上海\",\n",
    "    \"青岛\": \"山东\",\n",
    "    \"南京\": \"江苏\",\n",
    "    \"杭州\": \"浙江\"\n",
    "}\n",
    "\n",
    "experienceList = [\"在校/应届\", \"经验不限\", \"1年以内\", \"1-3年\", \"3-5年\", \"5-10年\", \"10年以上\"]\n",
    "educationList = [\"初中及以下\", \"中专/中技\", \"高中\", \"大专\", \"本科\", \"硕士\", \"博士\", \"学历不限\"]\n",
    "languageList = [    # 职位列表，要搜索的职位\n",
    "    'Java', # 100101\n",
    "    \"C-C++\", # 100102\n",
    "    'PHP', # 100103\n",
    "    'Python', # 100109\n",
    "    \"C#\", # 100106\n",
    "    'Golang', # 100116\n",
    "    'JavaScript',\n",
    "    'Swift',\n",
    "    'Ruby',\n",
    "    'Kotlin' \n",
    "]"
   ]
  },
  {
   "cell_type": "code",
   "execution_count": 57,
   "id": "54aff061",
   "metadata": {},
   "outputs": [],
   "source": [
    "# 字符串中筛选出薪资情况\n",
    "def get_min_max_salary(salary):\n",
    "    min_salary = salary.split(\"·\")[0].split(\"-\")[0]\n",
    "    max_salary = salary.split(\"·\")[0].split(\"-\")[1]\n",
    "    unit = salary.split(\"·\")[0].split(\"-\")[1]\n",
    "\n",
    "    if(\"K\" in unit): \n",
    "        min_salary = int(min_salary) * 1000\n",
    "        max_salary = int(max_salary.split(\"K\")[0]) * 1000\n",
    "    elif(\"元\" in unit):\n",
    "        min_salary = int(min_salary)\n",
    "        max_salary = int(max_salary.split(\"元\")[0])\n",
    "        if(\"天\" in unit):\n",
    "            min_salary = min_salary * 20\n",
    "            max_salary = max_salary * 20\n",
    "        if(\"周\" in unit):\n",
    "            min_salary = min_salary * 4\n",
    "            max_salary = max_salary * 4\n",
    "#     print(unit, min_salary, max_salary)\n",
    "    return min_salary, max_salary"
   ]
  },
  {
   "cell_type": "code",
   "execution_count": 123,
   "id": "3d53706f",
   "metadata": {
    "scrolled": true
   },
   "outputs": [],
   "source": [
    "# 清洗数据\n",
    "def wash_xlsx(xlsx_path, city, language, base):\n",
    "    df = pd.read_excel(xlsx_path)\n",
    "# id, province, city, company, scale, language, job, min_salary, max_salary, experience, education, create_time, update_time\n",
    "    result = [] \n",
    "    for row_index, row in df.iterrows(): \n",
    "        id = row_index + base\n",
    "        province = city2province[city]\n",
    "        city = city\n",
    "        company = row[\"公司\"]\n",
    "        scale = row[\"公司规模\"]\n",
    "        language = language\n",
    "        job = row[\"岗位\"]\n",
    "        min_salary, max_salary = get_min_max_salary(row[\"薪资\"])\n",
    "        experience = row[\"经验要求\"] \n",
    "        education = row[\"学历要求\"] \n",
    "        if(education not in educationList or experience not in experienceList): # 说明是实习\n",
    "            education = \"本科\"\n",
    "            experience = \"在校/应届\"\n",
    "#             print(\"Error\", city, language, row_index)\n",
    "#             if(education not in educationList): print(education)\n",
    "#             if(experience not in experienceList): print(experience)\n",
    "#             continue\n",
    "        create_time = \"2023-11-24 12:00:00\"\n",
    "        update_time = \"2023-11-24 12:00:00\"\n",
    "        result.append((\n",
    "            id, province, city, company, \n",
    "            scale, language, job, min_salary, max_salary, \n",
    "            experience, education, create_time, update_time\n",
    "        ))\n",
    "#         print(result[-1])\n",
    "    return result\n",
    "# data = wash_xlsx(\"./新版/Swift/深圳_Swift.xlsx\", \"深圳\", \"Swift\")"
   ]
  },
  {
   "cell_type": "code",
   "execution_count": 126,
   "id": "d9cbe5df",
   "metadata": {},
   "outputs": [],
   "source": [
    "data = []\n",
    "for language in languageList:\n",
    "    for city in city2province.keys():\n",
    "#         print(len(data), city, language)\n",
    "        data = data + wash_xlsx(\n",
    "            \"./新版/{}/{}_{}.xlsx\".format(language, city, language), \n",
    "            city, \n",
    "            language, \n",
    "            len(data)\n",
    "        )"
   ]
  },
  {
   "cell_type": "markdown",
   "id": "b244ef50",
   "metadata": {},
   "source": [
    "# MYSQL 存储"
   ]
  },
  {
   "cell_type": "code",
   "execution_count": 127,
   "id": "53dc711f",
   "metadata": {},
   "outputs": [],
   "source": [
    "connection = pymysql.connect(\n",
    "    host='172.19.241.8',  # 数据库主机名\n",
    "    port=3306,               # 数据库端口号，默认为3306\n",
    "    user='root',             # 数据库用户名\n",
    "    passwd='000000',         # 数据库密码\n",
    "    db='recuritment',               # 数据库名称\n",
    "    charset='utf8'           # 字符编码\n",
    ")\n",
    "\n",
    "# 创建游标对象\n",
    "cursor = connection.cursor()"
   ]
  },
  {
   "cell_type": "code",
   "execution_count": 129,
   "id": "31c16d71",
   "metadata": {},
   "outputs": [],
   "source": [
    "def save_data2db(cursor, conn, data):\n",
    "    sql = \"\"\"\n",
    "        INSERT INTO `recurit_info`(\n",
    "            `id`, `province`, `city`, `company`, \n",
    "            `scale`, `language`, `job`, `min_salary`, `max_salary`, \n",
    "            `experience`, `education`, `creation_time`, `update_time`\n",
    "        ) VALUES(%s, %s, %s, %s, %s, %s, %s, %s, %s, %s, %s, %s, %s)\n",
    "    \"\"\"\n",
    "    try:\n",
    "        cursor.executemany(sql, data)\n",
    "        conn.commit()\n",
    "    except pymysql.Error as e:\n",
    "        print(e)\n",
    "        conn.rollback()\n",
    "save_data2db(cursor, connection, data)"
   ]
  }
 ],
 "metadata": {
  "kernelspec": {
   "display_name": "ptest",
   "language": "python",
   "name": "ptest"
  },
  "language_info": {
   "codemirror_mode": {
    "name": "ipython",
    "version": 3
   },
   "file_extension": ".py",
   "mimetype": "text/x-python",
   "name": "python",
   "nbconvert_exporter": "python",
   "pygments_lexer": "ipython3",
   "version": "3.7.11"
  }
 },
 "nbformat": 4,
 "nbformat_minor": 5
}
